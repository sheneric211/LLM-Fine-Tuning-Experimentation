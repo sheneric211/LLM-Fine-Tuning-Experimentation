{
 "cells": [
  {
   "cell_type": "code",
   "execution_count": 2,
   "metadata": {},
   "outputs": [],
   "source": [
    "import numpy as np\n",
    "import pandas as pd\n",
    "import matplotlib.pyplot as plt\n",
    "import seaborn as sns"
   ]
  },
  {
   "cell_type": "markdown",
   "metadata": {},
   "source": [
    "# DISTILBERT"
   ]
  },
  {
   "cell_type": "code",
   "execution_count": 8,
   "metadata": {},
   "outputs": [
    {
     "name": "stdout",
     "output_type": "stream",
     "text": [
      "          accuracy  precision  recall        f1\n",
      "lora          0.91   0.911377    0.91  0.909865\n",
      "transfer      0.96   0.960000    0.96  0.960000\n",
      "base          0.90   0.905630    0.90  0.899517\n"
     ]
    }
   ],
   "source": [
    "# Define the path to the metrics files\n",
    "metrics_files = {\n",
    "    \"lora\": \"/Users/ericshen/Desktop/USFCA MASTERS STUFF/2024/Summer/MLOps/Final Project/DistilBERT/metrics/lora_metrics.txt\",\n",
    "    \"base\": \"/Users/ericshen/Desktop/USFCA MASTERS STUFF/2024/Summer/MLOps/Final Project/DistilBERT/metrics/base_metrics.txt\"\n",
    "}\n",
    "\n",
    "# Function to read metrics from a text file into a dictionary\n",
    "def read_metrics(file_path):\n",
    "    metrics = {}\n",
    "    with open(file_path, 'r') as f:\n",
    "        lines = f.readlines()\n",
    "        for line in lines:\n",
    "            if ': ' in line:\n",
    "                parts = line.strip().split(': ', 1)  # Split only on the first ': '\n",
    "                if len(parts) == 2:\n",
    "                    key, value = parts\n",
    "                    try:\n",
    "                        metrics[key] = float(value)\n",
    "                    except ValueError:\n",
    "                        continue  # Skip lines that do not contain a valid float value\n",
    "    return metrics\n",
    "\n",
    "# Read the metrics into a dictionary of dataframes\n",
    "metrics_data = {name: read_metrics(file_path) for name, file_path in metrics_files.items()}\n",
    "\n",
    "# Convert the dictionary to a pandas dataframe\n",
    "df = pd.DataFrame(metrics_data).T\n",
    "\n",
    "# Print the dataframe to check\n",
    "print(df)"
   ]
  },
  {
   "cell_type": "code",
   "execution_count": null,
   "metadata": {},
   "outputs": [],
   "source": []
  }
 ],
 "metadata": {
  "kernelspec": {
   "display_name": "first",
   "language": "python",
   "name": "python3"
  },
  "language_info": {
   "codemirror_mode": {
    "name": "ipython",
    "version": 3
   },
   "file_extension": ".py",
   "mimetype": "text/x-python",
   "name": "python",
   "nbconvert_exporter": "python",
   "pygments_lexer": "ipython3",
   "version": "3.11.0"
  }
 },
 "nbformat": 4,
 "nbformat_minor": 2
}
